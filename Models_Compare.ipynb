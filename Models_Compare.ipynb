{
 "cells": [
  {
   "cell_type": "markdown",
   "id": "4fdc5d02-5bc0-4bc7-a678-ac4487d341d3",
   "metadata": {},
   "source": [
    "# Accuracy of Various Models for Heart Disease Detection:"
   ]
  },
  {
   "cell_type": "markdown",
   "id": "31f11063-4fc6-4cb2-9379-a1eaeda6e35e",
   "metadata": {},
   "source": [
    "The aim of this project is to predict whether a patient has a high risk of having a heart disease or not. This problem is a classification problem as the outputs for \"Heart Attack Risk\" as either:\n",
    "\n",
    "- 0 = the patient is not at risk\n",
    "- 1 = the patient is at risk\n",
    "\n",
    "\n",
    "In this project we will use different methods to make our predictions, which means we will train different models and compare their performances. I try to keep this notebook as simple as possible, as the goal of this project is not to do some overlly verbose EDA. However a deeper dive into preprocessing and feature engineering might help to imporve the accuracy."
   ]
  },
  {
   "cell_type": "markdown",
   "id": "a445c075-f134-4e4b-95fb-d6f8aa0995cc",
   "metadata": {},
   "source": [
    "## Import and clean data :"
   ]
  },
  {
   "cell_type": "code",
   "execution_count": 91,
   "id": "013b8779-282a-4142-a28c-dced7421a223",
   "metadata": {},
   "outputs": [
    {
     "data": {
      "text/html": [
       "<div>\n",
       "<style scoped>\n",
       "    .dataframe tbody tr th:only-of-type {\n",
       "        vertical-align: middle;\n",
       "    }\n",
       "\n",
       "    .dataframe tbody tr th {\n",
       "        vertical-align: top;\n",
       "    }\n",
       "\n",
       "    .dataframe thead th {\n",
       "        text-align: right;\n",
       "    }\n",
       "</style>\n",
       "<table border=\"1\" class=\"dataframe\">\n",
       "  <thead>\n",
       "    <tr style=\"text-align: right;\">\n",
       "      <th></th>\n",
       "      <th>Patient ID</th>\n",
       "      <th>Age</th>\n",
       "      <th>Sex</th>\n",
       "      <th>Cholesterol</th>\n",
       "      <th>Blood Pressure</th>\n",
       "      <th>Heart Rate</th>\n",
       "      <th>Diabetes</th>\n",
       "      <th>Family History</th>\n",
       "      <th>Smoking</th>\n",
       "      <th>Obesity</th>\n",
       "      <th>...</th>\n",
       "      <th>Sedentary Hours Per Day</th>\n",
       "      <th>Income</th>\n",
       "      <th>BMI</th>\n",
       "      <th>Triglycerides</th>\n",
       "      <th>Physical Activity Days Per Week</th>\n",
       "      <th>Sleep Hours Per Day</th>\n",
       "      <th>Country</th>\n",
       "      <th>Continent</th>\n",
       "      <th>Hemisphere</th>\n",
       "      <th>Heart Attack Risk</th>\n",
       "    </tr>\n",
       "  </thead>\n",
       "  <tbody>\n",
       "    <tr>\n",
       "      <th>0</th>\n",
       "      <td>BMW7812</td>\n",
       "      <td>67</td>\n",
       "      <td>Male</td>\n",
       "      <td>208</td>\n",
       "      <td>158/88</td>\n",
       "      <td>72</td>\n",
       "      <td>0</td>\n",
       "      <td>0</td>\n",
       "      <td>1</td>\n",
       "      <td>0</td>\n",
       "      <td>...</td>\n",
       "      <td>6.615001</td>\n",
       "      <td>261404</td>\n",
       "      <td>31.251233</td>\n",
       "      <td>286</td>\n",
       "      <td>0</td>\n",
       "      <td>6</td>\n",
       "      <td>Argentina</td>\n",
       "      <td>South America</td>\n",
       "      <td>Southern Hemisphere</td>\n",
       "      <td>0</td>\n",
       "    </tr>\n",
       "    <tr>\n",
       "      <th>1</th>\n",
       "      <td>CZE1114</td>\n",
       "      <td>21</td>\n",
       "      <td>Male</td>\n",
       "      <td>389</td>\n",
       "      <td>165/93</td>\n",
       "      <td>98</td>\n",
       "      <td>1</td>\n",
       "      <td>1</td>\n",
       "      <td>1</td>\n",
       "      <td>1</td>\n",
       "      <td>...</td>\n",
       "      <td>4.963459</td>\n",
       "      <td>285768</td>\n",
       "      <td>27.194973</td>\n",
       "      <td>235</td>\n",
       "      <td>1</td>\n",
       "      <td>7</td>\n",
       "      <td>Canada</td>\n",
       "      <td>North America</td>\n",
       "      <td>Northern Hemisphere</td>\n",
       "      <td>0</td>\n",
       "    </tr>\n",
       "    <tr>\n",
       "      <th>2</th>\n",
       "      <td>BNI9906</td>\n",
       "      <td>21</td>\n",
       "      <td>Female</td>\n",
       "      <td>324</td>\n",
       "      <td>174/99</td>\n",
       "      <td>72</td>\n",
       "      <td>1</td>\n",
       "      <td>0</td>\n",
       "      <td>0</td>\n",
       "      <td>0</td>\n",
       "      <td>...</td>\n",
       "      <td>9.463426</td>\n",
       "      <td>235282</td>\n",
       "      <td>28.176571</td>\n",
       "      <td>587</td>\n",
       "      <td>4</td>\n",
       "      <td>4</td>\n",
       "      <td>France</td>\n",
       "      <td>Europe</td>\n",
       "      <td>Northern Hemisphere</td>\n",
       "      <td>0</td>\n",
       "    </tr>\n",
       "    <tr>\n",
       "      <th>3</th>\n",
       "      <td>JLN3497</td>\n",
       "      <td>84</td>\n",
       "      <td>Male</td>\n",
       "      <td>383</td>\n",
       "      <td>163/100</td>\n",
       "      <td>73</td>\n",
       "      <td>1</td>\n",
       "      <td>1</td>\n",
       "      <td>1</td>\n",
       "      <td>0</td>\n",
       "      <td>...</td>\n",
       "      <td>7.648981</td>\n",
       "      <td>125640</td>\n",
       "      <td>36.464704</td>\n",
       "      <td>378</td>\n",
       "      <td>3</td>\n",
       "      <td>4</td>\n",
       "      <td>Canada</td>\n",
       "      <td>North America</td>\n",
       "      <td>Northern Hemisphere</td>\n",
       "      <td>0</td>\n",
       "    </tr>\n",
       "    <tr>\n",
       "      <th>4</th>\n",
       "      <td>GFO8847</td>\n",
       "      <td>66</td>\n",
       "      <td>Male</td>\n",
       "      <td>318</td>\n",
       "      <td>91/88</td>\n",
       "      <td>93</td>\n",
       "      <td>1</td>\n",
       "      <td>1</td>\n",
       "      <td>1</td>\n",
       "      <td>1</td>\n",
       "      <td>...</td>\n",
       "      <td>1.514821</td>\n",
       "      <td>160555</td>\n",
       "      <td>21.809144</td>\n",
       "      <td>231</td>\n",
       "      <td>1</td>\n",
       "      <td>5</td>\n",
       "      <td>Thailand</td>\n",
       "      <td>Asia</td>\n",
       "      <td>Northern Hemisphere</td>\n",
       "      <td>0</td>\n",
       "    </tr>\n",
       "  </tbody>\n",
       "</table>\n",
       "<p>5 rows × 26 columns</p>\n",
       "</div>"
      ],
      "text/plain": [
       "  Patient ID  Age     Sex  Cholesterol Blood Pressure  Heart Rate  Diabetes  \\\n",
       "0    BMW7812   67    Male          208         158/88          72         0   \n",
       "1    CZE1114   21    Male          389         165/93          98         1   \n",
       "2    BNI9906   21  Female          324         174/99          72         1   \n",
       "3    JLN3497   84    Male          383        163/100          73         1   \n",
       "4    GFO8847   66    Male          318          91/88          93         1   \n",
       "\n",
       "   Family History  Smoking  Obesity  ...  Sedentary Hours Per Day  Income  \\\n",
       "0               0        1        0  ...                 6.615001  261404   \n",
       "1               1        1        1  ...                 4.963459  285768   \n",
       "2               0        0        0  ...                 9.463426  235282   \n",
       "3               1        1        0  ...                 7.648981  125640   \n",
       "4               1        1        1  ...                 1.514821  160555   \n",
       "\n",
       "         BMI  Triglycerides  Physical Activity Days Per Week  \\\n",
       "0  31.251233            286                                0   \n",
       "1  27.194973            235                                1   \n",
       "2  28.176571            587                                4   \n",
       "3  36.464704            378                                3   \n",
       "4  21.809144            231                                1   \n",
       "\n",
       "   Sleep Hours Per Day    Country      Continent           Hemisphere  \\\n",
       "0                    6  Argentina  South America  Southern Hemisphere   \n",
       "1                    7     Canada  North America  Northern Hemisphere   \n",
       "2                    4     France         Europe  Northern Hemisphere   \n",
       "3                    4     Canada  North America  Northern Hemisphere   \n",
       "4                    5   Thailand           Asia  Northern Hemisphere   \n",
       "\n",
       "   Heart Attack Risk  \n",
       "0                  0  \n",
       "1                  0  \n",
       "2                  0  \n",
       "3                  0  \n",
       "4                  0  \n",
       "\n",
       "[5 rows x 26 columns]"
      ]
     },
     "execution_count": 91,
     "metadata": {},
     "output_type": "execute_result"
    }
   ],
   "source": [
    "import pandas as pd\n",
    "\n",
    "file_path = \"./datasets/dataset.csv\"\n",
    "\n",
    "heart_disease = pd.read_csv(file_path)\n",
    "heart_disease.head()"
   ]
  },
  {
   "cell_type": "markdown",
   "id": "ebb23389-3bf8-4a18-ad71-af2beabb075e",
   "metadata": {},
   "source": [
    "Let's first check that we actually need to do some classification and not a regression :"
   ]
  },
  {
   "cell_type": "code",
   "execution_count": 92,
   "id": "6bf06648-c74c-4648-9974-e2b16a7bf70b",
   "metadata": {},
   "outputs": [
    {
     "name": "stdout",
     "output_type": "stream",
     "text": [
      "Heart Attack Risk\n",
      "0    5624\n",
      "1    3139\n",
      "Name: count, dtype: int64\n"
     ]
    }
   ],
   "source": [
    "print(heart_disease['Heart Attack Risk'].value_counts())"
   ]
  },
  {
   "cell_type": "markdown",
   "id": "f56469b9-f647-49fc-952d-c81f4af9a111",
   "metadata": {},
   "source": [
    "As we can see, only two values exist for the \"Heart Attack Risk\" : we need to perform classification."
   ]
  },
  {
   "cell_type": "markdown",
   "id": "924d79c8-cf0a-4eaa-aa07-072afdf08e53",
   "metadata": {},
   "source": [
    "Next, we need to extract the aim column (the one we need to predict):  this will be the \"label\", named y.  \n",
    "We also get rid of some columns because they are hard to deal with( for example the \"Blood Pressure\" feature is in a specific format which I do not want to look up. Therefore we will just leave it out :)  \n",
    "We are also getting rid of the \"Country\" feature: the reason for that is we want to have an idea of the location, but \"Country\" is too precise, and \"Hemisphere\" + \"Continent\" already give us a good idea for the global location of a person."
   ]
  },
  {
   "cell_type": "code",
   "execution_count": 93,
   "id": "9633d3a5-289a-4849-ae8a-a40865332f74",
   "metadata": {},
   "outputs": [
    {
     "data": {
      "text/html": [
       "<div>\n",
       "<style scoped>\n",
       "    .dataframe tbody tr th:only-of-type {\n",
       "        vertical-align: middle;\n",
       "    }\n",
       "\n",
       "    .dataframe tbody tr th {\n",
       "        vertical-align: top;\n",
       "    }\n",
       "\n",
       "    .dataframe thead th {\n",
       "        text-align: right;\n",
       "    }\n",
       "</style>\n",
       "<table border=\"1\" class=\"dataframe\">\n",
       "  <thead>\n",
       "    <tr style=\"text-align: right;\">\n",
       "      <th></th>\n",
       "      <th>Age</th>\n",
       "      <th>Sex</th>\n",
       "      <th>Cholesterol</th>\n",
       "      <th>Heart Rate</th>\n",
       "      <th>Diabetes</th>\n",
       "      <th>Family History</th>\n",
       "      <th>Smoking</th>\n",
       "      <th>Obesity</th>\n",
       "      <th>Alcohol Consumption</th>\n",
       "      <th>Exercise Hours Per Week</th>\n",
       "      <th>...</th>\n",
       "      <th>Medication Use</th>\n",
       "      <th>Stress Level</th>\n",
       "      <th>Sedentary Hours Per Day</th>\n",
       "      <th>Income</th>\n",
       "      <th>BMI</th>\n",
       "      <th>Triglycerides</th>\n",
       "      <th>Physical Activity Days Per Week</th>\n",
       "      <th>Sleep Hours Per Day</th>\n",
       "      <th>Continent</th>\n",
       "      <th>Hemisphere</th>\n",
       "    </tr>\n",
       "  </thead>\n",
       "  <tbody>\n",
       "    <tr>\n",
       "      <th>0</th>\n",
       "      <td>67</td>\n",
       "      <td>Male</td>\n",
       "      <td>208</td>\n",
       "      <td>72</td>\n",
       "      <td>0</td>\n",
       "      <td>0</td>\n",
       "      <td>1</td>\n",
       "      <td>0</td>\n",
       "      <td>0</td>\n",
       "      <td>4.168189</td>\n",
       "      <td>...</td>\n",
       "      <td>0</td>\n",
       "      <td>9</td>\n",
       "      <td>6.615001</td>\n",
       "      <td>261404</td>\n",
       "      <td>31.251233</td>\n",
       "      <td>286</td>\n",
       "      <td>0</td>\n",
       "      <td>6</td>\n",
       "      <td>South America</td>\n",
       "      <td>Southern Hemisphere</td>\n",
       "    </tr>\n",
       "    <tr>\n",
       "      <th>1</th>\n",
       "      <td>21</td>\n",
       "      <td>Male</td>\n",
       "      <td>389</td>\n",
       "      <td>98</td>\n",
       "      <td>1</td>\n",
       "      <td>1</td>\n",
       "      <td>1</td>\n",
       "      <td>1</td>\n",
       "      <td>1</td>\n",
       "      <td>1.813242</td>\n",
       "      <td>...</td>\n",
       "      <td>0</td>\n",
       "      <td>1</td>\n",
       "      <td>4.963459</td>\n",
       "      <td>285768</td>\n",
       "      <td>27.194973</td>\n",
       "      <td>235</td>\n",
       "      <td>1</td>\n",
       "      <td>7</td>\n",
       "      <td>North America</td>\n",
       "      <td>Northern Hemisphere</td>\n",
       "    </tr>\n",
       "    <tr>\n",
       "      <th>2</th>\n",
       "      <td>21</td>\n",
       "      <td>Female</td>\n",
       "      <td>324</td>\n",
       "      <td>72</td>\n",
       "      <td>1</td>\n",
       "      <td>0</td>\n",
       "      <td>0</td>\n",
       "      <td>0</td>\n",
       "      <td>0</td>\n",
       "      <td>2.078353</td>\n",
       "      <td>...</td>\n",
       "      <td>1</td>\n",
       "      <td>9</td>\n",
       "      <td>9.463426</td>\n",
       "      <td>235282</td>\n",
       "      <td>28.176571</td>\n",
       "      <td>587</td>\n",
       "      <td>4</td>\n",
       "      <td>4</td>\n",
       "      <td>Europe</td>\n",
       "      <td>Northern Hemisphere</td>\n",
       "    </tr>\n",
       "    <tr>\n",
       "      <th>3</th>\n",
       "      <td>84</td>\n",
       "      <td>Male</td>\n",
       "      <td>383</td>\n",
       "      <td>73</td>\n",
       "      <td>1</td>\n",
       "      <td>1</td>\n",
       "      <td>1</td>\n",
       "      <td>0</td>\n",
       "      <td>1</td>\n",
       "      <td>9.828130</td>\n",
       "      <td>...</td>\n",
       "      <td>0</td>\n",
       "      <td>9</td>\n",
       "      <td>7.648981</td>\n",
       "      <td>125640</td>\n",
       "      <td>36.464704</td>\n",
       "      <td>378</td>\n",
       "      <td>3</td>\n",
       "      <td>4</td>\n",
       "      <td>North America</td>\n",
       "      <td>Northern Hemisphere</td>\n",
       "    </tr>\n",
       "    <tr>\n",
       "      <th>4</th>\n",
       "      <td>66</td>\n",
       "      <td>Male</td>\n",
       "      <td>318</td>\n",
       "      <td>93</td>\n",
       "      <td>1</td>\n",
       "      <td>1</td>\n",
       "      <td>1</td>\n",
       "      <td>1</td>\n",
       "      <td>0</td>\n",
       "      <td>5.804299</td>\n",
       "      <td>...</td>\n",
       "      <td>0</td>\n",
       "      <td>6</td>\n",
       "      <td>1.514821</td>\n",
       "      <td>160555</td>\n",
       "      <td>21.809144</td>\n",
       "      <td>231</td>\n",
       "      <td>1</td>\n",
       "      <td>5</td>\n",
       "      <td>Asia</td>\n",
       "      <td>Northern Hemisphere</td>\n",
       "    </tr>\n",
       "  </tbody>\n",
       "</table>\n",
       "<p>5 rows × 22 columns</p>\n",
       "</div>"
      ],
      "text/plain": [
       "   Age     Sex  Cholesterol  Heart Rate  Diabetes  Family History  Smoking  \\\n",
       "0   67    Male          208          72         0               0        1   \n",
       "1   21    Male          389          98         1               1        1   \n",
       "2   21  Female          324          72         1               0        0   \n",
       "3   84    Male          383          73         1               1        1   \n",
       "4   66    Male          318          93         1               1        1   \n",
       "\n",
       "   Obesity  Alcohol Consumption  Exercise Hours Per Week  ... Medication Use  \\\n",
       "0        0                    0                 4.168189  ...              0   \n",
       "1        1                    1                 1.813242  ...              0   \n",
       "2        0                    0                 2.078353  ...              1   \n",
       "3        0                    1                 9.828130  ...              0   \n",
       "4        1                    0                 5.804299  ...              0   \n",
       "\n",
       "   Stress Level  Sedentary Hours Per Day  Income        BMI  Triglycerides  \\\n",
       "0             9                 6.615001  261404  31.251233            286   \n",
       "1             1                 4.963459  285768  27.194973            235   \n",
       "2             9                 9.463426  235282  28.176571            587   \n",
       "3             9                 7.648981  125640  36.464704            378   \n",
       "4             6                 1.514821  160555  21.809144            231   \n",
       "\n",
       "   Physical Activity Days Per Week  Sleep Hours Per Day      Continent  \\\n",
       "0                                0                    6  South America   \n",
       "1                                1                    7  North America   \n",
       "2                                4                    4         Europe   \n",
       "3                                3                    4  North America   \n",
       "4                                1                    5           Asia   \n",
       "\n",
       "            Hemisphere  \n",
       "0  Southern Hemisphere  \n",
       "1  Northern Hemisphere  \n",
       "2  Northern Hemisphere  \n",
       "3  Northern Hemisphere  \n",
       "4  Northern Hemisphere  \n",
       "\n",
       "[5 rows x 22 columns]"
      ]
     },
     "execution_count": 93,
     "metadata": {},
     "output_type": "execute_result"
    }
   ],
   "source": [
    "y = heart_disease[\"Heart Attack Risk\"]\n",
    "\n",
    "dropped_columns = [\"Country\",\"Blood Pressure\",\"Patient ID\",\"Heart Attack Risk\"]\n",
    "X = heart_disease.drop(dropped_columns,axis=1)\n",
    "X.head()"
   ]
  },
  {
   "cell_type": "markdown",
   "id": "6acb20fc-0618-4996-b260-db93a369f583",
   "metadata": {},
   "source": [
    "Let's check if we have some missing values :"
   ]
  },
  {
   "cell_type": "code",
   "execution_count": 94,
   "id": "1badc258-c36d-4b16-bd16-05b5265f25a3",
   "metadata": {},
   "outputs": [
    {
     "data": {
      "text/plain": [
       "False"
      ]
     },
     "execution_count": 94,
     "metadata": {},
     "output_type": "execute_result"
    }
   ],
   "source": [
    "X.isnull().values.any()"
   ]
  },
  {
   "cell_type": "markdown",
   "id": "50d67835-8551-47ac-8754-1324fec28fd8",
   "metadata": {},
   "source": [
    "Let's implement a very simple pipeline : treating the categorical arguments"
   ]
  },
  {
   "cell_type": "code",
   "execution_count": 95,
   "id": "213ffdd2-f3b2-4234-b78f-1e3f42a4055e",
   "metadata": {},
   "outputs": [],
   "source": [
    "from sklearn.pipeline import Pipeline\n",
    "from sklearn.preprocessing import OrdinalEncoder\n",
    "\n",
    "pipeline = Pipeline(steps=[\n",
    "    (\"encoder\", OrdinalEncoder())\n",
    "])\n",
    "\n",
    "X = pipeline.fit_transform(X)"
   ]
  },
  {
   "cell_type": "code",
   "execution_count": 96,
   "id": "bf9327e7-4ddb-49d0-a4a1-fb51496e5e30",
   "metadata": {},
   "outputs": [
    {
     "name": "stdout",
     "output_type": "stream",
     "text": [
      "[[0.68055556 1.         0.31428571 ... 0.33333333 1.         1.        ]\n",
      " [0.04166667 1.         0.96071429 ... 0.5        0.8        0.        ]\n",
      " [0.04166667 0.         0.72857143 ... 0.         0.6        0.        ]\n",
      " ...\n",
      " [0.40277778 1.         0.46428571 ... 0.         1.         1.        ]\n",
      " [0.25       1.         0.20714286 ... 0.66666667 1.         1.        ]\n",
      " [0.09722222 0.         0.84285714 ... 0.         0.6        0.        ]]\n"
     ]
    }
   ],
   "source": [
    "from sklearn.preprocessing import MinMaxScaler\n",
    "\n",
    "scaler = MinMaxScaler()\n",
    "\n",
    "#columns_to_scale = ['Age', 'Cholesterol', 'BMI']\n",
    "\n",
    "X = scaler.fit_transform(X)\n",
    "print(X)"
   ]
  },
  {
   "cell_type": "markdown",
   "id": "2ecc4c5c-968c-435d-aaf8-98ae2e150e72",
   "metadata": {},
   "source": [
    "Spliting the new dataset in a train set and a test set:"
   ]
  },
  {
   "cell_type": "code",
   "execution_count": 97,
   "id": "3b563f5c-33ee-4761-93eb-f2161350a967",
   "metadata": {},
   "outputs": [],
   "source": [
    "from sklearn.model_selection import train_test_split\n",
    "\n",
    "X_train, X_test, y_train, y_test = train_test_split(X, y, test_size=0.2, random_state=0)"
   ]
  },
  {
   "cell_type": "markdown",
   "id": "c6cf3a81-0dcc-4bd3-9072-14ea78fc3f45",
   "metadata": {},
   "source": [
    "## Model 1: KNeighborsClassifier"
   ]
  },
  {
   "cell_type": "markdown",
   "id": "ef659b0d-502a-468d-b378-2f3af3533323",
   "metadata": {},
   "source": [
    "First we will try to use a basic classifier using the K nearest neighbors. We are going to build a loop to find out what number of neighbors actually gives us the best accuracy :"
   ]
  },
  {
   "cell_type": "code",
   "execution_count": 98,
   "id": "f4a88fd7-2916-4ab2-86d3-b236d5e52d7c",
   "metadata": {},
   "outputs": [
    {
     "name": "stdout",
     "output_type": "stream",
     "text": [
      "Accuracy for 5 neighbors : 0.5681688533941814\n",
      "Accuracy for 10 neighbors : 0.6103822019395322\n",
      "Accuracy for 15 neighbors : 0.6126640045636053\n",
      "Accuracy for 20 neighbors : 0.6303479749001711\n",
      "Accuracy for 25 neighbors : 0.6200798630918426\n",
      "Accuracy for 30 neighbors : 0.6292070735881347\n",
      "Accuracy for 35 neighbors : 0.6286366229321164\n",
      "Accuracy for 40 neighbors : 0.6343411294922989\n",
      "Accuracy for 45 neighbors : 0.6349115801483172\n",
      "Accuracy for 50 neighbors : 0.6354820308043354\n",
      "Accuracy for 55 neighbors : 0.6349115801483172\n",
      "Accuracy for 60 neighbors : 0.6343411294922989\n",
      "Accuracy for 65 neighbors : 0.6343411294922989\n",
      "Accuracy for 70 neighbors : 0.6349115801483172\n",
      "Accuracy for 75 neighbors : 0.6360524814603536\n",
      "Accuracy for 80 neighbors : 0.6360524814603536\n",
      "Accuracy for 85 neighbors : 0.6354820308043354\n",
      "Accuracy for 90 neighbors : 0.6349115801483172\n",
      "Accuracy for 95 neighbors : 0.6354820308043354\n",
      "Accuracy for 100 neighbors : 0.6354820308043354\n",
      "Accuracy for 105 neighbors : 0.6354820308043354\n",
      "Accuracy for 110 neighbors : 0.6354820308043354\n",
      "Accuracy for 115 neighbors : 0.6354820308043354\n",
      "Accuracy for 120 neighbors : 0.6354820308043354\n",
      "Accuracy for 125 neighbors : 0.6354820308043354\n",
      "Accuracy for 130 neighbors : 0.6354820308043354\n",
      "Accuracy for 135 neighbors : 0.6354820308043354\n",
      "Accuracy for 140 neighbors : 0.6354820308043354\n",
      "Accuracy for 145 neighbors : 0.6354820308043354\n",
      "Accuracy for 150 neighbors : 0.6354820308043354\n",
      "Accuracy for 155 neighbors : 0.6354820308043354\n",
      "Accuracy for 160 neighbors : 0.6354820308043354\n",
      "Accuracy for 165 neighbors : 0.6354820308043354\n",
      "Accuracy for 170 neighbors : 0.6354820308043354\n",
      "Accuracy for 175 neighbors : 0.6354820308043354\n",
      "Accuracy for 180 neighbors : 0.6354820308043354\n",
      "Accuracy for 185 neighbors : 0.6354820308043354\n",
      "Accuracy for 190 neighbors : 0.6354820308043354\n",
      "Accuracy for 195 neighbors : 0.6354820308043354\n",
      "\n",
      " The optimal number of neighbors is 75 with an accuracy of 0.6360524814603536 \n",
      "\n"
     ]
    },
    {
     "data": {
      "image/png": "[encoded data removed]",
      "text/plain": [
       "<Figure size 640x480 with 1 Axes>"
      ]
     },
     "metadata": {},
     "output_type": "display_data"
    }
   ],
   "source": [
    "from sklearn.neighbors import KNeighborsClassifier\n",
    "from sklearn.metrics import accuracy_score\n",
    "from matplotlib import pyplot as plt\n",
    "import numpy as np\n",
    "\n",
    "n_neighbors = list(range(5,200,5))\n",
    "acc_list=[]\n",
    "max_acc_knn = 0\n",
    "best_neighbor_knn = 0\n",
    "\n",
    "for i in n_neighbors:\n",
    "    model_1 = KNeighborsClassifier(n_neighbors=i)\n",
    "    model_1.fit(X_train,y_train)\n",
    "    prediction_1 = model_1.predict(X_test)\n",
    "    accuracy = accuracy_score(prediction_1, y_test)\n",
    "    if accuracy > max_acc_knn :\n",
    "        max_acc_knn = accuracy\n",
    "        best_neighbor_knn = i\n",
    "    acc_list.append(accuracy)\n",
    "    print(f\"Accuracy for {i} neighbors : {accuracy}\")\n",
    "\n",
    "print(f\"\\n The optimal number of neighbors is {best_neighbor_knn} with an accuracy of {max_acc_knn} \\n\")\n",
    "\n",
    "plt.xlabel(\"Number of Neighbors\")\n",
    "plt.ylabel(\"Accuracy\")\n",
    "plt.plot(n_neighbors, acc_list)\n",
    "plt.show()\n"
   ]
  },
  {
   "cell_type": "markdown",
   "id": "3a310a6f-ffed-4377-b2b3-00347b607bb3",
   "metadata": {},
   "source": [
    "To analyse the predictions, we can use the **Confusion Matrix**, which is a table used to evaluate the performance of a classification model."
   ]
  },
  {
   "cell_type": "code",
   "execution_count": 99,
   "id": "2ee6035b-a50b-4416-a69d-779b628fb33c",
   "metadata": {},
   "outputs": [
    {
     "name": "stdout",
     "output_type": "stream",
     "text": [
      "[[1112  639]\n",
      " [   2    0]]\n",
      "0.6343411294922989\n"
     ]
    }
   ],
   "source": [
    "from sklearn.metrics import confusion_matrix\n",
    "\n",
    "model_1 = KNeighborsClassifier(n_neighbors=65)\n",
    "model_1.fit(X_train,y_train)\n",
    "prediction_1 = model_1.predict(X_test)\n",
    "\n",
    "cm_1 = confusion_matrix(prediction_1, y_test)\n",
    "print(cm_1)\n",
    "print(accuracy_score(prediction_1, y_test))"
   ]
  },
  {
   "cell_type": "code",
   "execution_count": 100,
   "id": "7d769478-151f-4b91-bb69-482ee9f803aa",
   "metadata": {},
   "outputs": [
    {
     "name": "stdout",
     "output_type": "stream",
     "text": [
      "[[4492 2480]\n",
      " [  18   20]]\n",
      "0.6436519258202568\n"
     ]
    }
   ],
   "source": [
    "prediction_2 = model_1.predict(X_train)\n",
    "cm_2 = confusion_matrix(prediction_2, y_train)\n",
    "print(cm_2)\n",
    "print(accuracy_score(prediction_2, y_train))"
   ]
  },
  {
   "cell_type": "markdown",
   "id": "12a78875-85a7-4464-b737-fc978be0b47e",
   "metadata": {},
   "source": [
    "As we can see, most of the predictions are TP (True Positive) or FP (False Positive): our model guesses that there is no heart risk in 99% of cases... But if we check the predictions of our model on the training set, we see that the accuracy is 0.64, so our model is not overfitting. Maybe using a more complex model would help..."
   ]
  },
  {
   "cell_type": "markdown",
   "id": "beb57582-6dfe-4891-b8f0-528d7d05cf15",
   "metadata": {},
   "source": [
    "## Model 2 : Gradient Boosting Classifier "
   ]
  },
  {
   "cell_type": "code",
   "execution_count": 101,
   "id": "0ddf513d-c656-40dc-bbe5-22e3ff9dec6e",
   "metadata": {},
   "outputs": [
    {
     "name": "stdout",
     "output_type": "stream",
     "text": [
      "Accuracy with 10 estimators : 0.6354820308043354\n",
      "Accuracy with 20 estimators : 0.6349115801483172\n",
      "Accuracy with 30 estimators : 0.6349115801483172\n",
      "Accuracy with 40 estimators : 0.6349115801483172\n",
      "Accuracy with 50 estimators : 0.6337706788362807\n",
      "Accuracy with 60 estimators : 0.6349115801483172\n",
      "Accuracy with 70 estimators : 0.6337706788362807\n",
      "Accuracy with 80 estimators : 0.6343411294922989\n",
      "Accuracy with 90 estimators : 0.6332002281802624\n",
      "\n",
      " The optimal number of estimators is 10 with an accuracy of 0.6354820308043354 \n",
      "\n"
     ]
    },
    {
     "data": {
      "image/png": "[encoded data removed]",
      "text/plain": [
       "<Figure size 640x480 with 1 Axes>"
      ]
     },
     "metadata": {},
     "output_type": "display_data"
    }
   ],
   "source": [
    "from sklearn.ensemble import GradientBoostingClassifier\n",
    "\n",
    "acc_list=[]\n",
    "est_list=[]\n",
    "max_acc_gb=0\n",
    "best_estimator_gb=0\n",
    "\n",
    "for i in range(10,100,10):\n",
    "    model_2 = GradientBoostingClassifier(n_estimators=i)\n",
    "    model_2.fit(X_train,y_train)\n",
    "    prediction_2 = model_2.predict(X_test)\n",
    "    accuracy = accuracy_score(prediction_2, y_test)\n",
    "    if accuracy > max_acc_gb :\n",
    "        max_acc_gb = accuracy\n",
    "        best_estimator_gb = i\n",
    "    acc_list.append(accuracy)\n",
    "    est_list.append(i)\n",
    "    print(f\"Accuracy with {i} estimators : {accuracy}\")\n",
    "\n",
    "print(f\"\\n The optimal number of estimators is {best_estimator_gb} with an accuracy of {max_acc_gb} \\n\")\n",
    "\n",
    "plt.plot(est_list,acc_list)\n",
    "plt.show()"
   ]
  },
  {
   "cell_type": "markdown",
   "id": "df3ae454-a696-47ca-8e5e-229abcbbcc14",
   "metadata": {},
   "source": [
    "## Model 3: Random Forest Classifier "
   ]
  },
  {
   "cell_type": "code",
   "execution_count": 102,
   "id": "09e961f1-01a8-4ae5-89ae-4acb2cd90b18",
   "metadata": {},
   "outputs": [
    {
     "name": "stdout",
     "output_type": "stream",
     "text": [
      "Accuracy with 10 estimators : 0.6041072447233314\n",
      "Accuracy with 30 estimators : 0.6252139189960069\n",
      "Accuracy with 50 estimators : 0.6326297775242442\n",
      "Accuracy with 70 estimators : 0.6332002281802624\n",
      "Accuracy with 90 estimators : 0.6343411294922989\n",
      "Accuracy with 110 estimators : 0.6326297775242442\n",
      "Accuracy with 130 estimators : 0.6337706788362807\n",
      "Accuracy with 150 estimators : 0.6309184255561894\n",
      "Accuracy with 170 estimators : 0.6309184255561894\n",
      "Accuracy with 190 estimators : 0.6332002281802624\n",
      "Accuracy with 210 estimators : 0.6354820308043354\n",
      "Accuracy with 230 estimators : 0.6349115801483172\n",
      "\n",
      " The optimal number of estimators is 210 with an accuracy of 0.6354820308043354 \n",
      "\n"
     ]
    },
    {
     "data": {
      "image/png": "[encoded data removed]",
      "text/plain": [
       "<Figure size 640x480 with 1 Axes>"
      ]
     },
     "metadata": {},
     "output_type": "display_data"
    }
   ],
   "source": [
    "from sklearn.ensemble import RandomForestClassifier\n",
    "\n",
    "acc_list=[]\n",
    "est_list=[]\n",
    "max_acc_rf=0\n",
    "best_estimator_rf=0\n",
    "\n",
    "\n",
    "for i in range(10,250,20):\n",
    "    model_3 = RandomForestClassifier(random_state=0,n_estimators=i)\n",
    "    model_3.fit(X_train,y_train)\n",
    "    prediction_3 = model_3.predict(X_test)\n",
    "    accuracy = accuracy_score(prediction_3, y_test)\n",
    "    if accuracy > max_acc_rf :\n",
    "        max_acc_rf = accuracy\n",
    "        best_estimator_rf = i\n",
    "    acc_list.append(accuracy)\n",
    "    est_list.append(i)\n",
    "    print(f\"Accuracy with {i} estimators : {accuracy}\")\n",
    "\n",
    "print(f\"\\n The optimal number of estimators is {best_estimator_rf} with an accuracy of {max_acc_rf} \\n\")\n",
    "\n",
    "plt.plot(est_list,acc_list)\n",
    "plt.show()"
   ]
  },
  {
   "cell_type": "markdown",
   "id": "c434dd4c-51c1-4015-a2c2-589a4e68a1ab",
   "metadata": {},
   "source": [
    "## Comparing the accuracy for the different classification models : "
   ]
  },
  {
   "cell_type": "code",
   "execution_count": 103,
   "id": "6a4d7d84-30d9-4eb3-83c5-f00448d11983",
   "metadata": {},
   "outputs": [
    {
     "data": {
      "text/plain": [
       "<BarContainer object of 3 artists>"
      ]
     },
     "execution_count": 103,
     "metadata": {},
     "output_type": "execute_result"
    },
    {
     "data": {
      "image/png": "[encoded data removed]",
      "text/plain": [
       "<Figure size 640x480 with 1 Axes>"
      ]
     },
     "metadata": {},
     "output_type": "display_data"
    }
   ],
   "source": [
    "#Creating a bar plot : displaying the accuracy for each model used\n",
    "list_acc_models = [max_acc_knn,max_acc_gb,max_acc_rf]\n",
    "list_models_name=[\"KNN\",\"Gradient Boost\",\"Random Forest\"]\n",
    "\n",
    "plt.xlabel(\"Classification models\")\n",
    "plt.ylabel(\"Best achieved accuracy\")\n",
    "plt.bar(height=list_acc_models, x=list_models_name, width=0.5)"
   ]
  },
  {
   "cell_type": "markdown",
   "id": "d74dfa5a-a5d7-471b-9e9d-635c5475ac5c",
   "metadata": {},
   "source": [
    "When optimising the models, we are able to achieve similar results with the three selected models (around 63.5 %). Again, it is important to mention that this is a very quick implementation of different models, but more work has to be done on the data and the hyperparameters in order to obtain the best results possible."
   ]
  }
 ],
 "metadata": {
  "kernelspec": {
   "display_name": "Python 3 (ipykernel)",
   "language": "python",
   "name": "python3"
  },
  "language_info": {
   "codemirror_mode": {
    "name": "ipython",
    "version": 3
   },
   "file_extension": ".py",
   "mimetype": "text/x-python",
   "name": "python",
   "nbconvert_exporter": "python",
   "pygments_lexer": "ipython3",
   "version": "3.11.0"
  }
 },
 "nbformat": 4,
 "nbformat_minor": 5
}
